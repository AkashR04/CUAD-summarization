{
  "nbformat": 4,
  "nbformat_minor": 0,
  "metadata": {
    "colab": {
      "provenance": [],
      "authorship_tag": "ABX9TyNOBN1ZwFTt8cW4cla2qSKU",
      "include_colab_link": true
    },
    "kernelspec": {
      "name": "python3",
      "display_name": "Python 3"
    },
    "language_info": {
      "name": "python"
    }
  },
  "cells": [
    {
      "cell_type": "markdown",
      "metadata": {
        "id": "view-in-github",
        "colab_type": "text"
      },
      "source": [
        "<a href=\"https://colab.research.google.com/github/AkashR04/CUAD-summarization/blob/main/CUAD_Important_Parts_Extraction.ipynb\" target=\"_parent\"><img src=\"https://colab.research.google.com/assets/colab-badge.svg\" alt=\"Open In Colab\"/></a>"
      ]
    },
    {
      "cell_type": "markdown",
      "source": [
        "# CUAD Question Answering model to extract important parts of contract"
      ],
      "metadata": {
        "id": "w62lrxcPSMYf"
      }
    },
    {
      "cell_type": "markdown",
      "source": [
        "## Installation of **dependencies**"
      ],
      "metadata": {
        "id": "Uql_joveS3hW"
      }
    },
    {
      "cell_type": "code",
      "execution_count": 1,
      "metadata": {
        "colab": {
          "base_uri": "https://localhost:8080/"
        },
        "id": "fSZdD06bSLSR",
        "outputId": "46b3fc24-bc96-42bb-a193-82c624c2b26a"
      },
      "outputs": [
        {
          "output_type": "stream",
          "name": "stdout",
          "text": [
            "Cloning into 'cuad'...\n",
            "remote: Enumerating objects: 30, done.\u001b[K\n",
            "remote: Total 30 (delta 0), reused 0 (delta 0), pack-reused 30\u001b[K\n",
            "Unpacking objects: 100% (30/30), 17.78 MiB | 10.91 MiB/s, done.\n"
          ]
        }
      ],
      "source": [
        "!git clone https://github.com/TheAtticusProject/cuad.git"
      ]
    },
    {
      "cell_type": "code",
      "source": [
        "!mv cuad cuad-training\n",
        "\n",
        "!unzip cuad-training/data.zip -d cuad-data/\n",
        "\n",
        "!mkdir cuad-models"
      ],
      "metadata": {
        "colab": {
          "base_uri": "https://localhost:8080/"
        },
        "id": "a8k8FhEuSeTR",
        "outputId": "27921c5c-07ed-4da9-9680-e259fea39e5d"
      },
      "execution_count": 2,
      "outputs": [
        {
          "output_type": "stream",
          "name": "stdout",
          "text": [
            "Archive:  cuad-training/data.zip\n",
            "  inflating: cuad-data/CUADv1.json   \n",
            "  inflating: cuad-data/test.json     \n",
            "  inflating: cuad-data/train_separate_questions.json  \n"
          ]
        }
      ]
    },
    {
      "cell_type": "code",
      "source": [
        "!curl https://zenodo.org/record/4599830/files/roberta-base.zip?download=1 --output cuad-models/roberta-base.zip\n",
        "\n",
        "!unzip cuad-models/roberta-base.zip -d cuad-models/"
      ],
      "metadata": {
        "colab": {
          "base_uri": "https://localhost:8080/"
        },
        "id": "OI1OsJ0xSuZt",
        "outputId": "3cb80367-7d44-429d-f5f6-d2af847c7953"
      },
      "execution_count": 3,
      "outputs": [
        {
          "output_type": "stream",
          "name": "stdout",
          "text": [
            "  % Total    % Received % Xferd  Average Speed   Time    Time     Time  Current\n",
            "                                 Dload  Upload   Total   Spent    Left  Speed\n",
            "100  426M  100  426M    0     0  1318k      0  0:05:31  0:05:31 --:--:-- 2604k\n",
            "Archive:  cuad-models/roberta-base.zip\n",
            "   creating: cuad-models/roberta-base/\n",
            "  inflating: cuad-models/roberta-base/special_tokens_map.json  \n",
            "  inflating: cuad-models/roberta-base/tokenizer_config.json  \n",
            "  inflating: cuad-models/roberta-base/pytorch_model.bin  \n",
            "  inflating: cuad-models/roberta-base/training_args.bin  \n",
            "  inflating: cuad-models/roberta-base/vocab.json  \n",
            "  inflating: cuad-models/roberta-base/predictions_.json  \n",
            "  inflating: cuad-models/roberta-base/merges.txt  \n",
            "  inflating: cuad-models/roberta-base/nbest_predictions_.json  \n",
            "  inflating: cuad-models/roberta-base/null_odds_.json  \n",
            "  inflating: cuad-models/roberta-base/config.json  \n"
          ]
        }
      ]
    },
    {
      "cell_type": "code",
      "source": [
        "#!pip install torch\n",
        "!pip install scripts\n",
        "#!pip install transformers"
      ],
      "metadata": {
        "colab": {
          "base_uri": "https://localhost:8080/",
          "height": 245
        },
        "id": "g-Lf0VxXSxiI",
        "outputId": "722b6b40-b313-4062-8db0-cbac4fed1c5a"
      },
      "execution_count": 12,
      "outputs": [
        {
          "output_type": "stream",
          "name": "stdout",
          "text": [
            "Looking in indexes: https://pypi.org/simple, https://us-python.pkg.dev/colab-wheels/public/simple/\n",
            "Collecting scripts\n",
            "  Downloading scripts-2.0-py2.py3-none-any.whl (20 kB)\n",
            "Collecting stua\n",
            "  Downloading stua-0.2-py2.py3-none-any.whl (8.2 kB)\n",
            "Installing collected packages: stua, scripts\n",
            "Successfully installed scripts-2.0 stua-0.2\n"
          ]
        },
        {
          "output_type": "display_data",
          "data": {
            "application/vnd.colab-display-data+json": {
              "pip_warning": {
                "packages": [
                  "scripts"
                ]
              }
            }
          },
          "metadata": {}
        }
      ]
    },
    {
      "cell_type": "markdown",
      "source": [
        "## Loading model"
      ],
      "metadata": {
        "id": "81ejytaMS_PT"
      }
    },
    {
      "cell_type": "code",
      "source": [
        "from transformers import AutoModelForQuestionAnswering, AutoTokenizer\n",
        "import torch\n",
        "\n",
        "model = AutoModelForQuestionAnswering.from_pretrained('./cuad-models/roberta-base/')\n",
        "tokenizer = AutoTokenizer.from_pretrained('./cuad-models/roberta-base/', use_fast=False)"
      ],
      "metadata": {
        "id": "7cJJ4c--TGQr"
      },
      "execution_count": 5,
      "outputs": []
    },
    {
      "cell_type": "code",
      "source": [
        "import json\n",
        "\n",
        "with open('./cuad-data/CUADv1.json') as json_file:\n",
        "    data = json.load(json_file)\n",
        "\n",
        "question = data['data'][0]['paragraphs'][0]['qas'][2]['question']\n",
        "paragraph = ' '.join(data['data'][0]['paragraphs'][0]['context'].split()[:100])"
      ],
      "metadata": {
        "id": "FqHYXdlTTN8X"
      },
      "execution_count": 7,
      "outputs": []
    },
    {
      "cell_type": "code",
      "source": [
        "encoding = tokenizer.encode_plus(text=question, text_pair=paragraph)\n",
        "inputs = encoding['input_ids']\n",
        "tokens = tokenizer.convert_ids_to_tokens(inputs)\n",
        "outputs = model(input_ids=torch.tensor([inputs]))\n",
        "\n",
        "start_scores = outputs.start_logits\n",
        "end_scores = outputs.end_logits"
      ],
      "metadata": {
        "id": "WTcSib26TY6m"
      },
      "execution_count": 8,
      "outputs": []
    },
    {
      "cell_type": "markdown",
      "source": [
        "### Output data"
      ],
      "metadata": {
        "id": "v3p6hzMzTmJp"
      }
    },
    {
      "cell_type": "code",
      "source": [
        "import matplotlib.pyplot as plt\n",
        "import seaborn as sns\n",
        "\n",
        "# Use plot styling from seaborn.\n",
        "sns.set(style='darkgrid')\n",
        "\n",
        "# Increase the plot size and font size.\n",
        "#sns.set(font_scale=1.5)\n",
        "plt.rcParams[\"figure.figsize\"] = (16,8)\n",
        "\n",
        "# Pull the scores out of PyTorch Tensors and convert them to 1D numpy arrays.\n",
        "s_scores = start_scores.detach().numpy().flatten()\n",
        "e_scores = end_scores.detach().numpy().flatten()\n",
        "\n",
        "# We'll use the tokens as the x-axis labels. In order to do that, they all need\n",
        "# to be unique, so we'll add the token index to the end of each one.\n",
        "token_labels = []\n",
        "for (i, token) in enumerate(tokens):\n",
        "    token_labels.append('{:} - {:>2}'.format(tokenizer.convert_tokens_to_string(token), i))\n",
        "\n",
        "# Create a barplot showing the start word score for all of the tokens.\n",
        "ax = sns.barplot(x=token_labels[80:120], y=s_scores[80:120], ci=None)\n",
        "\n",
        "# Turn the xlabels vertical.\n",
        "ax.set_xticklabels(ax.get_xticklabels(), rotation=90, ha=\"center\")\n",
        "\n",
        "# Turn on the vertical grid to help align words to scores.\n",
        "ax.grid(True)\n",
        "\n",
        "plt.title('Start Word Scores')\n",
        "\n",
        "plt.show()"
      ],
      "metadata": {
        "colab": {
          "base_uri": "https://localhost:8080/",
          "height": 498
        },
        "id": "g1JOqNVJTt2f",
        "outputId": "bb3dc742-b937-478e-a939-16c7ed0504d7"
      },
      "execution_count": 9,
      "outputs": [
        {
          "output_type": "stream",
          "name": "stderr",
          "text": [
            "<ipython-input-9-61b921433da3>:22: FutureWarning: \n",
            "\n",
            "The `ci` parameter is deprecated. Use `errorbar=None` for the same effect.\n",
            "\n",
            "  ax = sns.barplot(x=token_labels[80:120], y=s_scores[80:120], ci=None)\n"
          ]
        },
        {
          "output_type": "display_data",
          "data": {
            "text/plain": [
              "<Figure size 1152x576 with 1 Axes>"
            ],
            "image/png": "[encoded data removed]"
          },
          "metadata": {}
        }
      ]
    },
    {
      "cell_type": "code",
      "source": [
        "start_index = torch.argmax(start_scores)\n",
        "end_index = torch.argmax(end_scores)\n",
        "answer = tokenizer.convert_tokens_to_string(tokens[start_index:end_index+1])\n",
        "answer.strip()"
      ],
      "metadata": {
        "colab": {
          "base_uri": "https://localhost:8080/",
          "height": 35
        },
        "id": "YhY9XY8ST1tk",
        "outputId": "24e665a1-32a4-4595-a21d-5342b1b98d5e"
      },
      "execution_count": 10,
      "outputs": [
        {
          "output_type": "execute_result",
          "data": {
            "text/plain": [
              "'7th day of September, 1999.'"
            ],
            "application/vnd.google.colaboratory.intrinsic+json": {
              "type": "string"
            }
          },
          "metadata": {},
          "execution_count": 10
        }
      ]
    },
    {
      "cell_type": "markdown",
      "source": [
        "## Predictions"
      ],
      "metadata": {
        "id": "Vaofv0j8T6fr"
      }
    },
    {
      "cell_type": "code",
      "source": [
        "!ls"
      ],
      "metadata": {
        "colab": {
          "base_uri": "https://localhost:8080/"
        },
        "id": "PCIIfJVdWf54",
        "outputId": "633327b3-74b7-46b9-e7bb-be883687146c"
      },
      "execution_count": 16,
      "outputs": [
        {
          "output_type": "stream",
          "name": "stdout",
          "text": [
            "cuad-data  cuad-models\tcuad-training  sample_data  scripts\n"
          ]
        }
      ]
    },
    {
      "cell_type": "code",
      "source": [
        "from predict import run_prediction\n",
        "import json\n",
        "\n",
        "with open('./cuad-data/CUADv1.json') as json_file:\n",
        "    data = json.load(json_file)\n",
        "\n"
      ],
      "metadata": {
        "id": "X8XN9uupUDvk"
      },
      "execution_count": 17,
      "outputs": []
    },
    {
      "cell_type": "code",
      "source": [
        "questions = []\n",
        "for i, q in enumerate(data['data'][0]['paragraphs'][0]['qas']):\n",
        "    question = data['data'][0]['paragraphs'][0]['qas'][i]['question']\n",
        "    questions.append(question)\n",
        "contract = data['data'][0]['paragraphs'][0]['context']"
      ],
      "metadata": {
        "id": "zG9fUagsUId-"
      },
      "execution_count": 18,
      "outputs": []
    },
    {
      "cell_type": "code",
      "source": [
        "!mkdir temp\n",
        "with open('temp/contract.txt', 'w') as f:\n",
        "    f.write(' '.join(contract.split()))\n",
        "\n",
        "predictions = run_prediction(questions, contract, 'cuad-models/roberta-base/')"
      ],
      "metadata": {
        "colab": {
          "base_uri": "https://localhost:8080/"
        },
        "id": "IIn7CBX6UOfi",
        "outputId": "e2ae8bb9-5174-4076-bb1c-c51b9fc6b993"
      },
      "execution_count": 20,
      "outputs": [
        {
          "output_type": "stream",
          "name": "stderr",
          "text": [
            "convert squad examples to features: 100%|██████████| 41/41 [00:37<00:00,  1.10it/s]\n",
            "add example index and unique id: 100%|██████████| 41/41 [00:00<00:00, 13551.34it/s]\n"
          ]
        }
      ]
    },
    {
      "cell_type": "code",
      "source": [
        "with open('temp/predictions.txt', 'w') as f:\n",
        "    for i, p in enumerate(predictions):\n",
        "        f.write(f\"Question {i+1}: {questions[int(p)]}\\nAnswer: {predictions[p]}\\n\\n\")"
      ],
      "metadata": {
        "id": "fYn4-ZqcURkE"
      },
      "execution_count": 21,
      "outputs": []
    },
    {
      "cell_type": "code",
      "source": [],
      "metadata": {
        "id": "D8YGDy_zhQNw"
      },
      "execution_count": null,
      "outputs": []
    }
  ]
}